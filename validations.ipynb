{
 "cells": [
  {
   "cell_type": "code",
   "execution_count": null,
   "metadata": {},
   "outputs": [],
   "source": []
  },
  {
   "cell_type": "code",
   "execution_count": 2,
   "metadata": {},
   "outputs": [],
   "source": [
    "import re\n",
    "\n",
    "def validate_user(username, minlen):\n",
    "    #check if the received username matches the required condtions\n",
    "    if type(username) != str:\n",
    "        raise TypeError(\"username must be a string\")\n",
    "    if minlen < 1:\n",
    "        raise ValueError(\"minlen must be at least 1\")\n",
    "    #Usernames can't be shorter than minlen\n",
    "    if len(username) < minlen:\n",
    "        return False\n",
    "\n",
    "    #Usernames can only use letters, numbers, dots and underscores\n",
    "    if not re.match('^[a-z0-9._]*$', username):\n",
    "        return False\n",
    "    \n",
    "    #Usernames can't begin with a number\n",
    "    if username[0].isnumeric():\n",
    "        return False\n",
    "    return True"
   ]
  },
  {
   "cell_type": "code",
   "execution_count": 3,
   "metadata": {},
   "outputs": [
    {
     "data": {
      "text/plain": [
       "True"
      ]
     },
     "execution_count": 3,
     "metadata": {},
     "output_type": "execute_result"
    }
   ],
   "source": [
    "validate_user(\"sd\", 1)\n"
   ]
  },
  {
   "cell_type": "code",
   "execution_count": null,
   "metadata": {},
   "outputs": [],
   "source": []
  },
  {
   "cell_type": "code",
   "execution_count": null,
   "metadata": {},
   "outputs": [],
   "source": []
  },
  {
   "cell_type": "code",
   "execution_count": null,
   "metadata": {},
   "outputs": [],
   "source": []
  },
  {
   "cell_type": "code",
   "execution_count": null,
   "metadata": {},
   "outputs": [],
   "source": []
  }
 ],
 "metadata": {
  "kernelspec": {
   "display_name": "Python 3.7.13 ('base')",
   "language": "python",
   "name": "python3"
  },
  "language_info": {
   "codemirror_mode": {
    "name": "ipython",
    "version": 3
   },
   "file_extension": ".py",
   "mimetype": "text/x-python",
   "name": "python",
   "nbconvert_exporter": "python",
   "pygments_lexer": "ipython3",
   "version": "3.7.13"
  },
  "orig_nbformat": 4,
  "vscode": {
   "interpreter": {
    "hash": "08a8b3365c8794cd169c696eb07d244554fc02b68625288d9805fd473ed8453a"
   }
  }
 },
 "nbformat": 4,
 "nbformat_minor": 2
}
